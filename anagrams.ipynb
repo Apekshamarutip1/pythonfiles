{
 "cells": [
  {
   "cell_type": "code",
   "execution_count": 18,
   "metadata": {},
   "outputs": [
    {
     "name": "stdout",
     "output_type": "stream",
     "text": [
      "Not anagrams\n"
     ]
    }
   ],
   "source": [
    "ana1 = 'PRAKASH'\n",
    "ana2 = 'AKASHI'\n",
    "ana1 = sorted(ana1)\n",
    "ana2 = sorted(ana2)\n",
    "if len(ana1)>len(ana2):\n",
    "    long = ana1\n",
    "    short = ana2\n",
    "else:\n",
    "    long = ana2\n",
    "    short = ana1\n",
    "\n",
    "def check(long,short):\n",
    "    for char in short:\n",
    "        if char in long:\n",
    "            long.pop(long.index(char))\n",
    "        else:\n",
    "            print('Not anagrams')\n",
    "            return\n",
    "    print('Anagrams')\n",
    "    \n",
    "    \n",
    "\n",
    "c = check(long,short)"
   ]
  },
  {
   "cell_type": "code",
   "execution_count": 20,
   "metadata": {},
   "outputs": [
    {
     "name": "stdout",
     "output_type": "stream",
     "text": [
      "False\n"
     ]
    }
   ],
   "source": [
    "def check(s1,s2):\n",
    "    c1 = [0]*26\n",
    "    c2 = [0]*26\n",
    "\n",
    "    for i in range(len(s1)):\n",
    "        pos = ord(s1[i])-ord('A')\n",
    "        c1[pos] = c1[pos]+1\n",
    "\n",
    "    for i in range(len(s2)):\n",
    "        pos = ord(s2[i])-ord('A')\n",
    "        c2[pos] = c2[pos]+1\n",
    " \n",
    "    j = 0 \n",
    "\n",
    "    while j<26:\n",
    "\n",
    "        if c1[j]>=c2[j]:\n",
    "            j+=1\n",
    "        else:\n",
    "            return False\n",
    "\n",
    "    return True\n",
    "\n",
    "s2 = ['A','K','A','Q','H']\n",
    "s1 = ['P','R','A','K','A','S','H']\n",
    "\n",
    "print(check(s1,s2))\n",
    "\n",
    "#ord(<char>) -> ASCII"
   ]
  }
 ],
 "metadata": {
  "kernelspec": {
   "display_name": "Python 3",
   "language": "python",
   "name": "python3"
  },
  "language_info": {
   "codemirror_mode": {
    "name": "ipython",
    "version": 3
   },
   "file_extension": ".py",
   "mimetype": "text/x-python",
   "name": "python",
   "nbconvert_exporter": "python",
   "pygments_lexer": "ipython3",
   "version": "3.7.6"
  }
 },
 "nbformat": 4,
 "nbformat_minor": 4
}
